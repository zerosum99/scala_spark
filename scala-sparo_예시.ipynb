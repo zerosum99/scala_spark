{
 "cells": [
  {
   "cell_type": "markdown",
   "id": "ca4baa12",
   "metadata": {},
   "source": [
    "## 설치\n",
    "\n",
    "https://www.techentice.com/how-to-setup-jupyter-notebook-to-run-scala-and-spark/"
   ]
  },
  {
   "cell_type": "code",
   "execution_count": 1,
   "id": "810f55bd",
   "metadata": {},
   "outputs": [
    {
     "data": {
      "text/plain": [
       "Intitializing Scala interpreter ..."
      ]
     },
     "metadata": {},
     "output_type": "display_data"
    },
    {
     "data": {
      "text/plain": [
       "Spark Web UI available at http://192.168.1.151:4041\n",
       "SparkContext available as 'sc' (version = 3.0.0, master = local[*], app id = local-1625897602458)\n",
       "SparkSession available as 'spark'\n"
      ]
     },
     "metadata": {},
     "output_type": "display_data"
    },
    {
     "name": "stdout",
     "output_type": "stream",
     "text": [
      "+---+---+---+\n",
      "| _1| _2| _3|\n",
      "+---+---+---+\n",
      "|  1|  2|  3|\n",
      "|  4|  5|  6|\n",
      "|  6|  7|  8|\n",
      "|  9| 19| 10|\n",
      "+---+---+---+\n",
      "\n"
     ]
    },
    {
     "data": {
      "text/plain": [
       "data: Seq[(Int, Int, Int)] = List((1,2,3), (4,5,6), (6,7,8), (9,19,10))\n",
       "ds: org.apache.spark.sql.Dataset[(Int, Int, Int)] = [_1: int, _2: int ... 1 more field]\n"
      ]
     },
     "execution_count": 1,
     "metadata": {},
     "output_type": "execute_result"
    }
   ],
   "source": [
    "val data = Seq((1,2,3), (4,5,6), (6,7,8), (9,19,10))\n",
    "val ds = spark.createDataset(data)\n",
    "ds.show()"
   ]
  },
  {
   "cell_type": "code",
   "execution_count": 2,
   "id": "961b7944",
   "metadata": {},
   "outputs": [
    {
     "name": "stdout",
     "output_type": "stream",
     "text": [
      "2\n"
     ]
    }
   ],
   "source": [
    "%%python\n",
    "x=2\n",
    "print(x)"
   ]
  },
  {
   "cell_type": "code",
   "execution_count": 3,
   "id": "0d8719ce",
   "metadata": {},
   "outputs": [
    {
     "name": "stdout",
     "output_type": "stream",
     "text": [
      "2"
     ]
    },
    {
     "data": {
      "text/plain": [
       "x: Int = 2\n"
      ]
     },
     "execution_count": 3,
     "metadata": {},
     "output_type": "execute_result"
    }
   ],
   "source": [
    "%%scala\n",
    "var x=2\n",
    "print(x)"
   ]
  },
  {
   "cell_type": "code",
   "execution_count": 6,
   "id": "43d7edf4",
   "metadata": {},
   "outputs": [
    {
     "ename": "org.apache.spark.sql.AnalysisException",
     "evalue": " Path does not exist: file:/Users/dahlmoon/Documents/GitHub/data/x.xgv;",
     "output_type": "error",
     "traceback": [
      "org.apache.spark.sql.AnalysisException: Path does not exist: file:/Users/dahlmoon/Documents/GitHub/data/x.xgv;",
      "  at org.apache.spark.sql.execution.datasources.DataSource$.$anonfun$checkAndGlobPathIfNecessary$1(DataSource.scala:759)",
      "  at scala.collection.TraversableLike.$anonfun$flatMap$1(TraversableLike.scala:245)",
      "  at scala.collection.immutable.List.foreach(List.scala:392)",
      "  at scala.collection.TraversableLike.flatMap(TraversableLike.scala:245)",
      "  at scala.collection.TraversableLike.flatMap$(TraversableLike.scala:242)",
      "  at scala.collection.immutable.List.flatMap(List.scala:355)",
      "  at org.apache.spark.sql.execution.datasources.DataSource$.checkAndGlobPathIfNecessary(DataSource.scala:746)",
      "  at org.apache.spark.sql.execution.datasources.DataSource.checkAndGlobPathIfNecessary(DataSource.scala:575)",
      "  at org.apache.spark.sql.execution.datasources.DataSource.resolveRelation(DataSource.scala:398)",
      "  at org.apache.spark.sql.DataFrameReader.loadV1Source(DataFrameReader.scala:279)",
      "  at org.apache.spark.sql.DataFrameReader.$anonfun$load$2(DataFrameReader.scala:268)",
      "  at scala.Option.getOrElse(Option.scala:189)",
      "  at org.apache.spark.sql.DataFrameReader.load(DataFrameReader.scala:268)",
      "  at org.apache.spark.sql.DataFrameReader.load(DataFrameReader.scala:214)",
      "  ... 37 elided",
      ""
     ]
    }
   ],
   "source": [
    "val df = spark\n",
    "  .read\n",
    "  .load(\"../data/x.xgv\")"
   ]
  },
  {
   "cell_type": "code",
   "execution_count": null,
   "id": "72651a00",
   "metadata": {},
   "outputs": [],
   "source": []
  }
 ],
 "metadata": {
  "kernelspec": {
   "display_name": "spylon-kernel",
   "language": "scala",
   "name": "spylon-kernel"
  },
  "language_info": {
   "codemirror_mode": "text/x-scala",
   "file_extension": ".scala",
   "help_links": [
    {
     "text": "MetaKernel Magics",
     "url": "https://metakernel.readthedocs.io/en/latest/source/README.html"
    }
   ],
   "mimetype": "text/x-scala",
   "name": "scala",
   "pygments_lexer": "scala",
   "version": "0.4.1"
  }
 },
 "nbformat": 4,
 "nbformat_minor": 5
}
